{
 "cells": [
  {
   "cell_type": "code",
   "execution_count": 6,
   "metadata": {},
   "outputs": [
    {
     "ename": "ModuleNotFoundError",
     "evalue": "No module named 'numpy'",
     "output_type": "error",
     "traceback": [
      "\u001b[1;31m---------------------------------------------------------------------------\u001b[0m",
      "\u001b[1;31mModuleNotFoundError\u001b[0m                       Traceback (most recent call last)",
      "Cell \u001b[1;32mIn[6], line 1\u001b[0m\n\u001b[1;32m----> 1\u001b[0m \u001b[38;5;28;01mimport\u001b[39;00m \u001b[38;5;21;01mnumpy\u001b[39;00m \u001b[38;5;28;01mas\u001b[39;00m \u001b[38;5;21;01mnp\u001b[39;00m\n\u001b[0;32m      2\u001b[0m \u001b[38;5;28;01mimport\u001b[39;00m \u001b[38;5;21;01mpandas\u001b[39;00m \u001b[38;5;28;01mas\u001b[39;00m \u001b[38;5;21;01mpd\u001b[39;00m\n\u001b[0;32m      3\u001b[0m \u001b[38;5;28;01mfrom\u001b[39;00m \u001b[38;5;21;01msklearn\u001b[39;00m\u001b[38;5;21;01m.\u001b[39;00m\u001b[38;5;21;01mmodel_selection\u001b[39;00m \u001b[38;5;28;01mimport\u001b[39;00m train_test_split\n",
      "\u001b[1;31mModuleNotFoundError\u001b[0m: No module named 'numpy'"
     ]
    }
   ],
   "source": [
    "import numpy as np\n",
    "import pandas as pd\n",
    "from sklearn.model_selection import train_test_split\n",
    "from sklearn.preprocessing import StandardScaler\n",
    "from sklearn.svm import SVC\n",
    "from sklearn.metrics import accuracy_score\n",
    "\n",
    "# Load dataset\n",
    "diabetes_df = pd.read_csv('diabetes.csv')\n",
    "\n",
    "# Display basic information about the dataset\n",
    "print(diabetes_df.head(5))\n",
    "print(diabetes_df.shape)\n",
    "print(diabetes_df['Outcome'].value_counts())\n",
    "print(diabetes_df.info())\n",
    "print(diabetes_df.describe())\n",
    "print(diabetes_df.groupby('Outcome').mean())\n",
    "\n",
    "# Separate features and target variable\n",
    "X = diabetes_df.drop('Outcome', axis=1)\n",
    "y = diabetes_df['Outcome']\n",
    "\n",
    "# Standardize the features\n",
    "scaler = StandardScaler()\n",
    "X = scaler.fit_transform(X)\n",
    "\n",
    "# Split data into training and testing sets\n",
    "X_train, X_test, y_train, y_test = train_test_split(X, y, test_size=0.2, random_state=1)\n",
    "\n",
    "# Initialize SVM classifier\n",
    "model = SVC(kernel='linear')\n",
    "\n",
    "# Train the model\n",
    "model.fit(X_train, y_train)\n",
    "\n",
    "# Predict on test data\n",
    "test_y_pred = model.predict(X_test)\n",
    "\n",
    "# Evaluate accuracy\n",
    "print('Test set Accuracy:', accuracy_score(test_y_pred, y_test))\n",
    "\n",
    "# Example input data for prediction\n",
    "input_data = [[1, 85, 66, 29, 0, 26.6, 0.351, 31]]\n",
    "input_data_nparray = np.asarray(input_data)\n",
    "reshaped_input_data = input_data_nparray.reshape(1, -1)\n",
    "\n",
    "# Make prediction using the trained model\n",
    "prediction = model.predict(reshaped_input_data)\n",
    "\n",
    "# Interpret the prediction\n",
    "if prediction == 1:\n",
    "    print('This person has diabetes')\n",
    "else:\n",
    "    print('This person does not have diabetes')\n",
    "\n",
    "# Additional output for checking the first 100 rows of the dataset\n",
    "print(diabetes_df.head(100))\n"
   ]
  }
 ],
 "metadata": {
  "kernelspec": {
   "display_name": "Python 3",
   "language": "python",
   "name": "python3"
  },
  "language_info": {
   "codemirror_mode": {
    "name": "ipython",
    "version": 3
   },
   "file_extension": ".py",
   "mimetype": "text/x-python",
   "name": "python",
   "nbconvert_exporter": "python",
   "pygments_lexer": "ipython3",
   "version": "3.12.2"
  }
 },
 "nbformat": 4,
 "nbformat_minor": 2
}
